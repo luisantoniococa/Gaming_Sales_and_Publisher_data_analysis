{
 "cells": [
  {
   "cell_type": "code",
   "execution_count": 70,
   "metadata": {},
   "outputs": [],
   "source": [
    "import numpy as np\n",
    "\n",
    "import sqlalchemy\n",
    "from sqlalchemy.ext.automap import automap_base\n",
    "from sqlalchemy.orm import Session\n",
    "from sqlalchemy import create_engine, func, MetaData, Table, Column, String, Integer\n",
    "\n",
    "from flask import Flask, jsonify"
   ]
  },
  {
   "cell_type": "code",
   "execution_count": 78,
   "metadata": {},
   "outputs": [],
   "source": [
    "engine = create_engine(\"sqlite:///videoGames.sqlite\")\n",
    "\n",
    "# reflect an existing database into a new model\n",
    "Base = automap_base()\n",
    "\n",
    "#Map Table\n",
    "class Company(Base):\n",
    "    __tablename__ = 'company'\n",
    "    company_id = Column(Integer, autoincrement=True, index = True, primary_key = True)\n",
    "    company_name = Column(String(250))\n",
    "    NA_sales = Column(Integer)\n",
    "    EU_sales = Column(Integer)\n",
    "    JP_sales = Column(Integer)\n",
    "    Other_sales = Column(Integer)\n",
    "    \n",
    "# reflect the tables\n",
    "Base.prepare(engine, reflect=True)\n",
    "\n",
    "Base.metadata.create_all(engine)\n",
    "session = Session(engine)"
   ]
  },
  {
   "cell_type": "code",
   "execution_count": 79,
   "metadata": {},
   "outputs": [
    {
     "data": {
      "text/plain": [
       "immutabledict({'company': Table('company', MetaData(bind=None), Column('company_id', Integer(), table=<company>, primary_key=True, nullable=False), Column('company_name', String(length=250), table=<company>), Column('NA_sales', Integer(), table=<company>), Column('EU_sales', Integer(), table=<company>), Column('JP_sales', Integer(), table=<company>), Column('Other_sales', Integer(), table=<company>), schema=None)})"
      ]
     },
     "execution_count": 79,
     "metadata": {},
     "output_type": "execute_result"
    }
   ],
   "source": [
    "Base.metadata.tables"
   ]
  },
  {
   "cell_type": "code",
   "execution_count": 80,
   "metadata": {},
   "outputs": [],
   "source": [
    "#Create some sample data\n",
    "compData = dumComp = [{'company' : 'CompanyA',\n",
    "                        'NASales' : 1000, \n",
    "                        'EUSales' : 2500, \n",
    "                        'JPSales' : 1500,\n",
    "                        'OtherSales' : 500},\n",
    "                      {'company' : 'CompanyB',\n",
    "                        'NASales' : 3000, \n",
    "                        'EUSales' : 2500, \n",
    "                        'JPSales' : 1500,\n",
    "                        'OtherSales' : 500},\n",
    "                      {'company' : 'CompanyC',\n",
    "                        'NASales' : 500, \n",
    "                        'EUSales' : 2500, \n",
    "                       \n",
    "                        'JPSales' : 1500,\n",
    "                        'OtherSales' : 5000}]\n",
    "    "
   ]
  },
  {
   "cell_type": "code",
   "execution_count": null,
   "metadata": {},
   "outputs": [],
   "source": []
  },
  {
   "cell_type": "code",
   "execution_count": 96,
   "metadata": {},
   "outputs": [
    {
     "data": {
      "text/plain": [
       "immutabledict({'company': Table('company', MetaData(bind=None), Column('company_id', Integer(), table=<company>, primary_key=True, nullable=False), Column('company_name', String(length=250), table=<company>), Column('NA_sales', Integer(), table=<company>), Column('EU_sales', Integer(), table=<company>), Column('JP_sales', Integer(), table=<company>), Column('Other_sales', Integer(), table=<company>), schema=None)})"
      ]
     },
     "execution_count": 96,
     "metadata": {},
     "output_type": "execute_result"
    }
   ],
   "source": [
    "Base.metadata.tables"
   ]
  },
  {
   "cell_type": "code",
   "execution_count": 85,
   "metadata": {},
   "outputs": [
    {
     "name": "stdout",
     "output_type": "stream",
     "text": [
      "CompanyA\n",
      "1000\n",
      "CompanyB\n",
      "3000\n",
      "CompanyC\n",
      "500\n"
     ]
    }
   ],
   "source": [
    "# Note that adding to the session does not update the table. It queues up those queries.\n",
    "i=0\n",
    "for company in compData:\n",
    "    #print(company)\n",
    "#     i += 1\n",
    "#     compid = i\n",
    "    compName = company['company']\n",
    "    print(compName)\n",
    "    NASales = company['NASales']\n",
    "    print(NASales)\n",
    "    EUSales = company['EUSales']\n",
    "    JPSales = company['JPSales']\n",
    "    OtherSales = company['OtherSales']\n",
    "    session.add(Company(company_name=compName, NA_sales=NASales, EU_sales=EUSales, JP_sales=JPSales, Other_sales=OtherSales))\n"
   ]
  },
  {
   "cell_type": "code",
   "execution_count": 86,
   "metadata": {},
   "outputs": [
    {
     "data": {
      "text/plain": [
       "IdentitySet([<__main__.Company object at 0x0000026C4C47BF48>, <__main__.Company object at 0x0000026C4C477048>, <__main__.Company object at 0x0000026C4C4770C8>])"
      ]
     },
     "execution_count": 86,
     "metadata": {},
     "output_type": "execute_result"
    }
   ],
   "source": [
    "session.new"
   ]
  },
  {
   "cell_type": "code",
   "execution_count": 87,
   "metadata": {},
   "outputs": [],
   "source": [
    "session.commit()"
   ]
  },
  {
   "cell_type": "code",
   "execution_count": 69,
   "metadata": {},
   "outputs": [],
   "source": [
    "session.rollback()"
   ]
  },
  {
   "cell_type": "code",
   "execution_count": 88,
   "metadata": {},
   "outputs": [
    {
     "data": {
      "text/plain": [
       "[('CompanyC', 500), ('CompanyA', 1000), ('CompanyB', 3000), ('CompanyC', 500)]"
      ]
     },
     "execution_count": 88,
     "metadata": {},
     "output_type": "execute_result"
    }
   ],
   "source": [
    "session.query(Company.company_name, Company.NA_sales).all()"
   ]
  },
  {
   "cell_type": "code",
   "execution_count": 100,
   "metadata": {},
   "outputs": [],
   "source": [
    "session.close()"
   ]
  },
  {
   "cell_type": "code",
   "execution_count": null,
   "metadata": {},
   "outputs": [],
   "source": []
  }
 ],
 "metadata": {
  "kernelspec": {
   "display_name": "Python 3",
   "language": "python",
   "name": "python3"
  },
  "language_info": {
   "codemirror_mode": {
    "name": "ipython",
    "version": 3
   },
   "file_extension": ".py",
   "mimetype": "text/x-python",
   "name": "python",
   "nbconvert_exporter": "python",
   "pygments_lexer": "ipython3",
   "version": "3.7.4"
  }
 },
 "nbformat": 4,
 "nbformat_minor": 2
}
